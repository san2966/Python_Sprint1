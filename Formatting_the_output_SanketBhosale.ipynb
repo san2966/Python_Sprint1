{
 "cells": [
  {
   "cell_type": "code",
   "execution_count": null,
   "id": "bee25539",
   "metadata": {},
   "outputs": [],
   "source": [
    "# Task-5:- Formatting the output."
   ]
  },
  {
   "cell_type": "code",
   "execution_count": null,
   "id": "0de5360d",
   "metadata": {},
   "outputs": [],
   "source": [
    "- Define averiable maxmarks and assign the value 100. divide marks by maxmarks. print output as percentage."
   ]
  },
  {
   "cell_type": "code",
   "execution_count": 3,
   "id": "278ebfcb",
   "metadata": {},
   "outputs": [],
   "source": [
    "maxmarks= 100\n",
    "mark=  74.08"
   ]
  },
  {
   "cell_type": "code",
   "execution_count": 6,
   "id": "0230c351",
   "metadata": {},
   "outputs": [
    {
     "name": "stdout",
     "output_type": "stream",
     "text": [
      "74.08%\n"
     ]
    }
   ],
   "source": [
    "a=mark/maxmarks*100\n",
    "print(str(a)+'%')"
   ]
  },
  {
   "cell_type": "code",
   "execution_count": null,
   "id": "62947e31",
   "metadata": {},
   "outputs": [],
   "source": [
    "- Print the value of the veriable fullname by joining firstname and lastname."
   ]
  },
  {
   "cell_type": "code",
   "execution_count": 9,
   "id": "fce5a259",
   "metadata": {},
   "outputs": [],
   "source": [
    "firstname='sanket'\n",
    "lastname='bhosale'"
   ]
  },
  {
   "cell_type": "code",
   "execution_count": 11,
   "id": "01c624e3",
   "metadata": {},
   "outputs": [
    {
     "name": "stdout",
     "output_type": "stream",
     "text": [
      "sanket bhosale\n"
     ]
    }
   ],
   "source": [
    "fullname= firstname+' '+lastname\n",
    "print(fullname)"
   ]
  },
  {
   "cell_type": "code",
   "execution_count": null,
   "id": "9d87f679",
   "metadata": {},
   "outputs": [],
   "source": [
    "- print the value of veriable fullname with 'scored' followed by the percentage of marks. "
   ]
  },
  {
   "cell_type": "code",
   "execution_count": 12,
   "id": "342f4191",
   "metadata": {},
   "outputs": [
    {
     "name": "stdout",
     "output_type": "stream",
     "text": [
      "sanket bhosale scored 74.08%\n"
     ]
    }
   ],
   "source": [
    "print(fullname,'scored',str(a)+'%')"
   ]
  },
  {
   "cell_type": "code",
   "execution_count": null,
   "id": "9206657f",
   "metadata": {},
   "outputs": [],
   "source": []
  }
 ],
 "metadata": {
  "kernelspec": {
   "display_name": "Python 3 (ipykernel)",
   "language": "python",
   "name": "python3"
  },
  "language_info": {
   "codemirror_mode": {
    "name": "ipython",
    "version": 3
   },
   "file_extension": ".py",
   "mimetype": "text/x-python",
   "name": "python",
   "nbconvert_exporter": "python",
   "pygments_lexer": "ipython3",
   "version": "3.9.13"
  }
 },
 "nbformat": 4,
 "nbformat_minor": 5
}
