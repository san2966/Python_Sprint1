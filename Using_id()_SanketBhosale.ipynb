{
 "cells": [
  {
   "cell_type": "markdown",
   "id": "4f44e55e",
   "metadata": {},
   "source": [
    "# Task-4:- Using id()."
   ]
  },
  {
   "cell_type": "markdown",
   "id": "a9e1b4e6",
   "metadata": {},
   "source": [
    "- Create a veriable named as mark and assign it a float value between 0 and 100 print the value,id and datatype."
   ]
  },
  {
   "cell_type": "code",
   "execution_count": 1,
   "id": "9b35209f",
   "metadata": {},
   "outputs": [],
   "source": [
    "mark= 81.29"
   ]
  },
  {
   "cell_type": "code",
   "execution_count": 3,
   "id": "931dbcdd",
   "metadata": {},
   "outputs": [
    {
     "name": "stdout",
     "output_type": "stream",
     "text": [
      "81.29\n",
      "2362496086928\n",
      "<class 'float'>\n"
     ]
    }
   ],
   "source": [
    "print(mark)\n",
    "print(id(mark))\n",
    "print(type(mark))"
   ]
  },
  {
   "cell_type": "markdown",
   "id": "030280f2",
   "metadata": {},
   "source": [
    "- change the value of marks to any other float value between 0 to 100. print value of marks,id and datatypes."
   ]
  },
  {
   "cell_type": "code",
   "execution_count": 4,
   "id": "85b54efa",
   "metadata": {},
   "outputs": [],
   "source": [
    "mark= 74.08"
   ]
  },
  {
   "cell_type": "code",
   "execution_count": 5,
   "id": "6b179bd9",
   "metadata": {},
   "outputs": [
    {
     "name": "stdout",
     "output_type": "stream",
     "text": [
      "74.08\n",
      "2362496199312\n",
      "<class 'float'>\n"
     ]
    }
   ],
   "source": [
    "print(mark)\n",
    "print(id(mark))\n",
    "print(type(mark))"
   ]
  },
  {
   "cell_type": "markdown",
   "id": "46bbd545",
   "metadata": {},
   "source": [
    "- is the id for the mark veriable in the last two question the same or differant? Explain it"
   ]
  },
  {
   "cell_type": "markdown",
   "id": "2a84ca8d",
   "metadata": {},
   "source": [
    "Interpretation:-\n",
    "- The id for first question and second question is differant.\n",
    "- It has total 13 numbers with unique configurations.\n",
    "- But the first 7 numbers are common.\n",
    "- next 6 numbers are differant from each other."
   ]
  }
 ],
 "metadata": {
  "kernelspec": {
   "display_name": "Python 3 (ipykernel)",
   "language": "python",
   "name": "python3"
  },
  "language_info": {
   "codemirror_mode": {
    "name": "ipython",
    "version": 3
   },
   "file_extension": ".py",
   "mimetype": "text/x-python",
   "name": "python",
   "nbconvert_exporter": "python",
   "pygments_lexer": "ipython3",
   "version": "3.9.13"
  }
 },
 "nbformat": 4,
 "nbformat_minor": 5
}
