{
 "cells": [
  {
   "cell_type": "markdown",
   "id": "5e5b4b8f",
   "metadata": {},
   "source": [
    "# Task-10:-Associativity"
   ]
  },
  {
   "cell_type": "code",
   "execution_count": 1,
   "id": "13ae8239",
   "metadata": {},
   "outputs": [],
   "source": [
    "a=4"
   ]
  },
  {
   "cell_type": "code",
   "execution_count": 2,
   "id": "63b765ee",
   "metadata": {},
   "outputs": [],
   "source": [
    "b=3"
   ]
  },
  {
   "cell_type": "code",
   "execution_count": 3,
   "id": "60be3123",
   "metadata": {},
   "outputs": [],
   "source": [
    "c=2"
   ]
  },
  {
   "cell_type": "code",
   "execution_count": 4,
   "id": "4b72558b",
   "metadata": {},
   "outputs": [],
   "source": [
    "d=a**b+c"
   ]
  },
  {
   "cell_type": "code",
   "execution_count": 5,
   "id": "723d2d44",
   "metadata": {},
   "outputs": [],
   "source": [
    "e=a**(b+c)"
   ]
  },
  {
   "cell_type": "markdown",
   "id": "336ade46",
   "metadata": {},
   "source": [
    "- print the value of d."
   ]
  },
  {
   "cell_type": "code",
   "execution_count": 6,
   "id": "a310c15c",
   "metadata": {},
   "outputs": [
    {
     "name": "stdout",
     "output_type": "stream",
     "text": [
      "66\n"
     ]
    }
   ],
   "source": [
    "print(d)"
   ]
  },
  {
   "cell_type": "code",
   "execution_count": null,
   "id": "0bbd1d93",
   "metadata": {},
   "outputs": [],
   "source": [
    "- print the value of e."
   ]
  },
  {
   "cell_type": "code",
   "execution_count": 7,
   "id": "c42ba642",
   "metadata": {},
   "outputs": [
    {
     "name": "stdout",
     "output_type": "stream",
     "text": [
      "1024\n"
     ]
    }
   ],
   "source": [
    "print(e)"
   ]
  },
  {
   "cell_type": "markdown",
   "id": "3f47ab41",
   "metadata": {},
   "source": [
    "- Explain why the values ofd and e are same or differant."
   ]
  },
  {
   "cell_type": "markdown",
   "id": "8f0a72f5",
   "metadata": {},
   "source": [
    "Interpretation:-\n",
    "- Firstly we assign the values for the veriables (a,b and c).\n",
    "- In first task we got output for 'd' as 66.\n",
    "- this task the power function is execute first.\n",
    "- Then the addition function is execute thats why we get 66 as output.\n",
    "\n",
    "- In second task we got output for 'e' as 1024.\n",
    "- In this task the addition function present in parenthesis execute first.\n",
    "- then the power function is executes.\n",
    "- thats why we got 1024 as output."
   ]
  }
 ],
 "metadata": {
  "kernelspec": {
   "display_name": "Python 3 (ipykernel)",
   "language": "python",
   "name": "python3"
  },
  "language_info": {
   "codemirror_mode": {
    "name": "ipython",
    "version": 3
   },
   "file_extension": ".py",
   "mimetype": "text/x-python",
   "name": "python",
   "nbconvert_exporter": "python",
   "pygments_lexer": "ipython3",
   "version": "3.9.13"
  }
 },
 "nbformat": 4,
 "nbformat_minor": 5
}
