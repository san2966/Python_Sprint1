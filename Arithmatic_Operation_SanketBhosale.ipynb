{
 "cells": [
  {
   "cell_type": "markdown",
   "id": "1baaff48",
   "metadata": {},
   "source": [
    "# Task-7:- Arithmatic Operations"
   ]
  },
  {
   "cell_type": "markdown",
   "id": "6ff98535",
   "metadata": {},
   "source": [
    "- Execute the following expression and explain the observation of output."
   ]
  },
  {
   "cell_type": "code",
   "execution_count": 1,
   "id": "64d46b8c",
   "metadata": {},
   "outputs": [
    {
     "ename": "TypeError",
     "evalue": "unsupported operand type(s) for +: 'int' and 'str'",
     "output_type": "error",
     "traceback": [
      "\u001b[1;31m---------------------------------------------------------------------------\u001b[0m",
      "\u001b[1;31mTypeError\u001b[0m                                 Traceback (most recent call last)",
      "\u001b[1;32m~\\AppData\\Local\\Temp\\ipykernel_10496\\3813695943.py\u001b[0m in \u001b[0;36m<module>\u001b[1;34m\u001b[0m\n\u001b[1;32m----> 1\u001b[1;33m \u001b[1;36m1\u001b[0m\u001b[1;33m+\u001b[0m\u001b[1;34m\"2\"\u001b[0m\u001b[1;33m\u001b[0m\u001b[1;33m\u001b[0m\u001b[0m\n\u001b[0m",
      "\u001b[1;31mTypeError\u001b[0m: unsupported operand type(s) for +: 'int' and 'str'"
     ]
    }
   ],
   "source": [
    "1+\"2\""
   ]
  },
  {
   "cell_type": "markdown",
   "id": "f7145e10",
   "metadata": {},
   "source": [
    "Interpretation:-\n",
    "- In this task the compiler noted the first value as integer and second value as string.\n",
    "- so the string and integer values are never get added.\n",
    "- thats why it shows an Unsupported operand type error."
   ]
  },
  {
   "cell_type": "code",
   "execution_count": 2,
   "id": "51bf3fef",
   "metadata": {},
   "outputs": [
    {
     "data": {
      "text/plain": [
       "'12'"
      ]
     },
     "execution_count": 2,
     "metadata": {},
     "output_type": "execute_result"
    }
   ],
   "source": [
    "\"1\"+\"2\""
   ]
  },
  {
   "cell_type": "markdown",
   "id": "e26830f9",
   "metadata": {},
   "source": [
    "Interpretation:-\n",
    "- In this task both the values are assumed as a string value.\n",
    "- and the compiler concat the both value together and show the output as 12."
   ]
  },
  {
   "cell_type": "code",
   "execution_count": 3,
   "id": "fe0ad750",
   "metadata": {},
   "outputs": [
    {
     "data": {
      "text/plain": [
       "0.5"
      ]
     },
     "execution_count": 3,
     "metadata": {},
     "output_type": "execute_result"
    }
   ],
   "source": [
    "1/2"
   ]
  },
  {
   "cell_type": "markdown",
   "id": "a91a7544",
   "metadata": {},
   "source": [
    "Interpretation:-\n",
    "- In this task we simply divide 1 by 2 and compiler gives an output.\n",
    "- In this output we got a float value which is 0.5."
   ]
  },
  {
   "cell_type": "code",
   "execution_count": 4,
   "id": "d027866b",
   "metadata": {},
   "outputs": [
    {
     "data": {
      "text/plain": [
       "0"
      ]
     },
     "execution_count": 4,
     "metadata": {},
     "output_type": "execute_result"
    }
   ],
   "source": [
    "1//2"
   ]
  },
  {
   "cell_type": "markdown",
   "id": "73210a01",
   "metadata": {},
   "source": [
    "Interpretation:-\n",
    "- In this task we use the divide symbol twice.\n",
    "- When we are using this (//) then we get an Integer value as a output."
   ]
  }
 ],
 "metadata": {
  "kernelspec": {
   "display_name": "Python 3 (ipykernel)",
   "language": "python",
   "name": "python3"
  },
  "language_info": {
   "codemirror_mode": {
    "name": "ipython",
    "version": 3
   },
   "file_extension": ".py",
   "mimetype": "text/x-python",
   "name": "python",
   "nbconvert_exporter": "python",
   "pygments_lexer": "ipython3",
   "version": "3.9.13"
  }
 },
 "nbformat": 4,
 "nbformat_minor": 5
}
