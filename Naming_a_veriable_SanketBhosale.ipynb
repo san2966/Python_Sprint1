{
 "cells": [
  {
   "cell_type": "markdown",
   "id": "5b924c32",
   "metadata": {},
   "source": [
    "# Task-2:- Naming a veriable."
   ]
  },
  {
   "cell_type": "markdown",
   "id": "f4796ba7",
   "metadata": {},
   "source": [
    "- execute the following expression individually and explain the observation to each of them."
   ]
  },
  {
   "cell_type": "code",
   "execution_count": 1,
   "id": "337caafb",
   "metadata": {},
   "outputs": [
    {
     "data": {
      "text/plain": [
       "2"
      ]
     },
     "execution_count": 1,
     "metadata": {},
     "output_type": "execute_result"
    }
   ],
   "source": [
    "var1=2\n",
    "var1"
   ]
  },
  {
   "cell_type": "markdown",
   "id": "1bca8b06",
   "metadata": {},
   "source": [
    "- Interpretation :-\n",
    "    - in above code, we use correct syntax thats why we get an output without  any error.\n",
    "    - in Veriable syntax the veriables are only start with a character value."
   ]
  },
  {
   "cell_type": "code",
   "execution_count": 2,
   "id": "87fe3bf2",
   "metadata": {},
   "outputs": [
    {
     "ename": "SyntaxError",
     "evalue": "invalid syntax (1729216075.py, line 1)",
     "output_type": "error",
     "traceback": [
      "\u001b[1;36m  File \u001b[1;32m\"C:\\Users\\Manohar Bhosale\\AppData\\Local\\Temp\\ipykernel_4868\\1729216075.py\"\u001b[1;36m, line \u001b[1;32m1\u001b[0m\n\u001b[1;33m    2var=2\u001b[0m\n\u001b[1;37m     ^\u001b[0m\n\u001b[1;31mSyntaxError\u001b[0m\u001b[1;31m:\u001b[0m invalid syntax\n"
     ]
    }
   ],
   "source": [
    "2var=2"
   ]
  },
  {
   "cell_type": "markdown",
   "id": "00a35e32",
   "metadata": {},
   "source": [
    "- Interpretation :-\n",
    "   - The veriables can not have number for starting eg. 2var=2.\n",
    "   - due to this we got a syntax error in this code."
   ]
  },
  {
   "cell_type": "code",
   "execution_count": 3,
   "id": "6e24b706",
   "metadata": {},
   "outputs": [
    {
     "ename": "SyntaxError",
     "evalue": "invalid syntax (3073352835.py, line 1)",
     "output_type": "error",
     "traceback": [
      "\u001b[1;36m  File \u001b[1;32m\"C:\\Users\\Manohar Bhosale\\AppData\\Local\\Temp\\ipykernel_4868\\3073352835.py\"\u001b[1;36m, line \u001b[1;32m1\u001b[0m\n\u001b[1;33m    var 1=2\u001b[0m\n\u001b[1;37m        ^\u001b[0m\n\u001b[1;31mSyntaxError\u001b[0m\u001b[1;31m:\u001b[0m invalid syntax\n"
     ]
    }
   ],
   "source": [
    "var 1=2"
   ]
  },
  {
   "cell_type": "markdown",
   "id": "bcd0c6a5",
   "metadata": {},
   "source": [
    "- Interpretation:-\n",
    "  - The veriable cant have space between them.\n",
    "  - if we put some space then we got the syntax error."
   ]
  },
  {
   "cell_type": "code",
   "execution_count": 4,
   "id": "18ac29d1",
   "metadata": {},
   "outputs": [
    {
     "ename": "SyntaxError",
     "evalue": "invalid syntax (661466017.py, line 1)",
     "output_type": "error",
     "traceback": [
      "\u001b[1;36m  File \u001b[1;32m\"C:\\Users\\Manohar Bhosale\\AppData\\Local\\Temp\\ipykernel_4868\\661466017.py\"\u001b[1;36m, line \u001b[1;32m1\u001b[0m\n\u001b[1;33m    var$2=2\u001b[0m\n\u001b[1;37m       ^\u001b[0m\n\u001b[1;31mSyntaxError\u001b[0m\u001b[1;31m:\u001b[0m invalid syntax\n"
     ]
    }
   ],
   "source": [
    "var$2=2"
   ]
  },
  {
   "cell_type": "markdown",
   "id": "44433ace",
   "metadata": {},
   "source": [
    "- Interpretation:-\n",
    "   - The veriables will not haveany special characters.\n",
    "   - we can only use underscore but its has some diferant meaning in python."
   ]
  }
 ],
 "metadata": {
  "kernelspec": {
   "display_name": "Python 3 (ipykernel)",
   "language": "python",
   "name": "python3"
  },
  "language_info": {
   "codemirror_mode": {
    "name": "ipython",
    "version": 3
   },
   "file_extension": ".py",
   "mimetype": "text/x-python",
   "name": "python",
   "nbconvert_exporter": "python",
   "pygments_lexer": "ipython3",
   "version": "3.9.13"
  }
 },
 "nbformat": 4,
 "nbformat_minor": 5
}
