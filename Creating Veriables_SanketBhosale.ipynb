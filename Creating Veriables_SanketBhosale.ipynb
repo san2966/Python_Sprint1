{
 "cells": [
  {
   "cell_type": "markdown",
   "id": "d6a1dbaf",
   "metadata": {},
   "source": [
    "# task1:- Creating veriables "
   ]
  },
  {
   "cell_type": "markdown",
   "id": "738eab21",
   "metadata": {},
   "source": [
    "- create a veriable rollno and assign an integer value to it. print the value of rollno, the id and datatype.  "
   ]
  },
  {
   "cell_type": "code",
   "execution_count": 1,
   "id": "f8297f08",
   "metadata": {},
   "outputs": [],
   "source": [
    "rollno= 4"
   ]
  },
  {
   "cell_type": "code",
   "execution_count": 2,
   "id": "2cb23bcb",
   "metadata": {},
   "outputs": [
    {
     "name": "stdout",
     "output_type": "stream",
     "text": [
      "4\n",
      "2239718189456\n",
      "<class 'int'>\n"
     ]
    }
   ],
   "source": [
    "print(rollno)\n",
    "print(id(rollno))\n",
    "print(type(rollno))"
   ]
  },
  {
   "cell_type": "markdown",
   "id": "f689be17",
   "metadata": {},
   "source": [
    "- create a veriable firstname and assign a string value to it. print the value of firstname, id and datatype."
   ]
  },
  {
   "cell_type": "code",
   "execution_count": 3,
   "id": "bbe72e2f",
   "metadata": {},
   "outputs": [],
   "source": [
    "firstname='sanket'"
   ]
  },
  {
   "cell_type": "code",
   "execution_count": 4,
   "id": "3bdf9c41",
   "metadata": {},
   "outputs": [
    {
     "name": "stdout",
     "output_type": "stream",
     "text": [
      "sanket\n",
      "2239802934256\n",
      "<class 'str'>\n"
     ]
    }
   ],
   "source": [
    "print(firstname)\n",
    "print(id(firstname))\n",
    "print(type(firstname))"
   ]
  },
  {
   "cell_type": "markdown",
   "id": "e090037c",
   "metadata": {},
   "source": [
    "- create a veriable lastname and assign a string value to it. print the value of lastname, id and datatype."
   ]
  },
  {
   "cell_type": "code",
   "execution_count": 5,
   "id": "65ee0953",
   "metadata": {},
   "outputs": [],
   "source": [
    "lastname='bhosale'"
   ]
  },
  {
   "cell_type": "code",
   "execution_count": 6,
   "id": "7e0d4ecb",
   "metadata": {},
   "outputs": [
    {
     "name": "stdout",
     "output_type": "stream",
     "text": [
      "bhosale\n",
      "2239803446704\n",
      "<class 'str'>\n"
     ]
    }
   ],
   "source": [
    "print(lastname)\n",
    "print(id(lastname))\n",
    "print(type(lastname))"
   ]
  },
  {
   "cell_type": "markdown",
   "id": "0783a25c",
   "metadata": {},
   "source": [
    "- create a veriable maxmarks and assign the value 50 to it.print value the maxmarks, id and datatype."
   ]
  },
  {
   "cell_type": "code",
   "execution_count": 7,
   "id": "0f836560",
   "metadata": {},
   "outputs": [],
   "source": [
    "maxmarks= 50"
   ]
  },
  {
   "cell_type": "code",
   "execution_count": 8,
   "id": "e2e25f1c",
   "metadata": {},
   "outputs": [
    {
     "name": "stdout",
     "output_type": "stream",
     "text": [
      "50\n",
      "2239718190928\n",
      "<class 'int'>\n"
     ]
    }
   ],
   "source": [
    "print(maxmarks)\n",
    "print(id(maxmarks))\n",
    "print(type(maxmarks))"
   ]
  },
  {
   "cell_type": "code",
   "execution_count": null,
   "id": "62679ef6",
   "metadata": {},
   "outputs": [],
   "source": []
  }
 ],
 "metadata": {
  "kernelspec": {
   "display_name": "Python 3 (ipykernel)",
   "language": "python",
   "name": "python3"
  },
  "language_info": {
   "codemirror_mode": {
    "name": "ipython",
    "version": 3
   },
   "file_extension": ".py",
   "mimetype": "text/x-python",
   "name": "python",
   "nbconvert_exporter": "python",
   "pygments_lexer": "ipython3",
   "version": "3.9.13"
  }
 },
 "nbformat": 4,
 "nbformat_minor": 5
}
