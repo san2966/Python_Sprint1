{
 "cells": [
  {
   "cell_type": "markdown",
   "id": "72fc34e1",
   "metadata": {},
   "source": [
    "# Task-8:-Logical Operations"
   ]
  },
  {
   "cell_type": "markdown",
   "id": "07a0d358",
   "metadata": {},
   "source": [
    "- Execute the following commands and explain the output for each"
   ]
  },
  {
   "cell_type": "code",
   "execution_count": 1,
   "id": "04d485fe",
   "metadata": {},
   "outputs": [
    {
     "data": {
      "text/plain": [
       "True"
      ]
     },
     "execution_count": 1,
     "metadata": {},
     "output_type": "execute_result"
    }
   ],
   "source": [
    "True and True"
   ]
  },
  {
   "cell_type": "markdown",
   "id": "636a90fa",
   "metadata": {},
   "source": [
    "Interpretation:-\n",
    "- The AND operator are show TRUE when both side of the operator are TRUE.\n",
    "- Same condition is applied here so we get TRUE as a output."
   ]
  },
  {
   "cell_type": "code",
   "execution_count": 2,
   "id": "5e783251",
   "metadata": {},
   "outputs": [
    {
     "data": {
      "text/plain": [
       "False"
      ]
     },
     "execution_count": 2,
     "metadata": {},
     "output_type": "execute_result"
    }
   ],
   "source": [
    "True and False"
   ]
  },
  {
   "cell_type": "markdown",
   "id": "25b632ad",
   "metadata": {},
   "source": [
    "Interpretation:-\n",
    "- The both side of operator are differant so we get FALSE as a output."
   ]
  },
  {
   "cell_type": "code",
   "execution_count": 3,
   "id": "a07499d9",
   "metadata": {},
   "outputs": [
    {
     "data": {
      "text/plain": [
       "True"
      ]
     },
     "execution_count": 3,
     "metadata": {},
     "output_type": "execute_result"
    }
   ],
   "source": [
    "False or True"
   ]
  },
  {
   "cell_type": "markdown",
   "id": "ddd24ff5",
   "metadata": {},
   "source": [
    "Interpretation:-\n",
    "- In OR operator, if any side of the operator is TRUE then its give TRUE as output."
   ]
  },
  {
   "cell_type": "code",
   "execution_count": 4,
   "id": "b5aa2f5f",
   "metadata": {},
   "outputs": [
    {
     "data": {
      "text/plain": [
       "False"
      ]
     },
     "execution_count": 4,
     "metadata": {},
     "output_type": "execute_result"
    }
   ],
   "source": [
    "False or False"
   ]
  },
  {
   "cell_type": "markdown",
   "id": "fa3efb89",
   "metadata": {},
   "source": [
    "Interpretation:-\n",
    "- In this condition both the values are false so its show output as FALSE."
   ]
  }
 ],
 "metadata": {
  "kernelspec": {
   "display_name": "Python 3 (ipykernel)",
   "language": "python",
   "name": "python3"
  },
  "language_info": {
   "codemirror_mode": {
    "name": "ipython",
    "version": 3
   },
   "file_extension": ".py",
   "mimetype": "text/x-python",
   "name": "python",
   "nbconvert_exporter": "python",
   "pygments_lexer": "ipython3",
   "version": "3.9.13"
  }
 },
 "nbformat": 4,
 "nbformat_minor": 5
}
