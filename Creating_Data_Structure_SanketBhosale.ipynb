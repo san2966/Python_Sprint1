{
 "cells": [
  {
   "cell_type": "code",
   "execution_count": null,
   "id": "c70fecc7",
   "metadata": {},
   "outputs": [],
   "source": [
    "# Task-6:- Creating data structure."
   ]
  },
  {
   "cell_type": "markdown",
   "id": "4657ef55",
   "metadata": {},
   "source": [
    "- Use veriable rollno as a key and the veriable fullname as a value to create a dictionary data structure. "
   ]
  },
  {
   "cell_type": "code",
   "execution_count": 3,
   "id": "ddc34671",
   "metadata": {},
   "outputs": [],
   "source": [
    "rollno= 4\n",
    "fullname= 'sanket bhosale'\n",
    "mark=74.08"
   ]
  },
  {
   "cell_type": "code",
   "execution_count": 2,
   "id": "c1cde9ee",
   "metadata": {},
   "outputs": [
    {
     "name": "stdout",
     "output_type": "stream",
     "text": [
      "{4: 'sanket bhosale'}\n"
     ]
    }
   ],
   "source": [
    "my_data={rollno: fullname}\n",
    "print(my_data)"
   ]
  },
  {
   "cell_type": "markdown",
   "id": "554eaea3",
   "metadata": {},
   "source": [
    "- Use the veriables rollno, fullname, marks as the value create a list data structure. "
   ]
  },
  {
   "cell_type": "code",
   "execution_count": 4,
   "id": "d4594a2e",
   "metadata": {},
   "outputs": [],
   "source": [
    "data_list=[rollno, fullname, mark]"
   ]
  },
  {
   "cell_type": "code",
   "execution_count": 5,
   "id": "0c974afa",
   "metadata": {},
   "outputs": [
    {
     "name": "stdout",
     "output_type": "stream",
     "text": [
      "[4, 'sanket bhosale', 74.08]\n"
     ]
    }
   ],
   "source": [
    "print(data_list)"
   ]
  },
  {
   "cell_type": "code",
   "execution_count": null,
   "id": "8245bfd3",
   "metadata": {},
   "outputs": [],
   "source": []
  }
 ],
 "metadata": {
  "kernelspec": {
   "display_name": "Python 3 (ipykernel)",
   "language": "python",
   "name": "python3"
  },
  "language_info": {
   "codemirror_mode": {
    "name": "ipython",
    "version": 3
   },
   "file_extension": ".py",
   "mimetype": "text/x-python",
   "name": "python",
   "nbconvert_exporter": "python",
   "pygments_lexer": "ipython3",
   "version": "3.9.13"
  }
 },
 "nbformat": 4,
 "nbformat_minor": 5
}
