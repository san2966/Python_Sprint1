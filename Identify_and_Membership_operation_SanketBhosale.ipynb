{
 "cells": [
  {
   "cell_type": "markdown",
   "id": "23d97dda",
   "metadata": {},
   "source": [
    "# Task-9:-Identify and membership operation"
   ]
  },
  {
   "cell_type": "markdown",
   "id": "bd361be2",
   "metadata": {},
   "source": [
    "- compare firstname and fullname using 'in' operator. print and explain output."
   ]
  },
  {
   "cell_type": "code",
   "execution_count": 1,
   "id": "ee21218d",
   "metadata": {},
   "outputs": [],
   "source": [
    "firstname='sanket'\n",
    "fullname='sanket bhosale'\n"
   ]
  },
  {
   "cell_type": "code",
   "execution_count": 2,
   "id": "1ca92309",
   "metadata": {},
   "outputs": [
    {
     "data": {
      "text/plain": [
       "True"
      ]
     },
     "execution_count": 2,
     "metadata": {},
     "output_type": "execute_result"
    }
   ],
   "source": [
    "firstname in fullname"
   ]
  },
  {
   "cell_type": "markdown",
   "id": "add5cd97",
   "metadata": {},
   "source": [
    "Interpretation:-\n",
    "- In this task we use 'IN' operator.\n",
    "- the firstname is a part of fullname.\n",
    "- Its showing the output as TRUE."
   ]
  },
  {
   "cell_type": "markdown",
   "id": "7c04c98e",
   "metadata": {},
   "source": [
    "- Compare firstname and fullname using 'is' operator.print and explain the output."
   ]
  },
  {
   "cell_type": "code",
   "execution_count": 3,
   "id": "6b5818cc",
   "metadata": {},
   "outputs": [
    {
     "data": {
      "text/plain": [
       "False"
      ]
     },
     "execution_count": 3,
     "metadata": {},
     "output_type": "execute_result"
    }
   ],
   "source": [
    "firstname is fullname"
   ]
  },
  {
   "cell_type": "markdown",
   "id": "acd1698b",
   "metadata": {},
   "source": [
    "Interpretation:-\n",
    "- In this task we used 'IS' operator.\n",
    "- this operator is compare both the values and gives output.\n",
    "- this condition we got False as output."
   ]
  }
 ],
 "metadata": {
  "kernelspec": {
   "display_name": "Python 3 (ipykernel)",
   "language": "python",
   "name": "python3"
  },
  "language_info": {
   "codemirror_mode": {
    "name": "ipython",
    "version": 3
   },
   "file_extension": ".py",
   "mimetype": "text/x-python",
   "name": "python",
   "nbconvert_exporter": "python",
   "pygments_lexer": "ipython3",
   "version": "3.9.13"
  }
 },
 "nbformat": 4,
 "nbformat_minor": 5
}
