{
 "cells": [
  {
   "cell_type": "markdown",
   "id": "3640efa5",
   "metadata": {},
   "source": [
    "# task1:- Creating veriables "
   ]
  },
  {
   "cell_type": "markdown",
   "id": "3a01653f",
   "metadata": {},
   "source": [
    "- create a veriable rollno and assign an integer value to it. print the value of rollno, the id and datatype.  "
   ]
  },
  {
   "cell_type": "code",
   "execution_count": 17,
   "id": "3f8a2c64",
   "metadata": {},
   "outputs": [],
   "source": [
    "rollno= 4"
   ]
  },
  {
   "cell_type": "code",
   "execution_count": 5,
   "id": "1e80d2fe",
   "metadata": {},
   "outputs": [
    {
     "name": "stdout",
     "output_type": "stream",
     "text": [
      "4\n",
      "3092260153744\n",
      "<class 'int'>\n"
     ]
    }
   ],
   "source": [
    "print(rollno)\n",
    "print(id(rollno))\n",
    "print(type(rollno))"
   ]
  },
  {
   "cell_type": "markdown",
   "id": "64da0a02",
   "metadata": {},
   "source": [
    "- create a veriable firstname and assign a string value to it. print the value of firstname, id and datatype."
   ]
  },
  {
   "cell_type": "code",
   "execution_count": 10,
   "id": "91f88104",
   "metadata": {},
   "outputs": [],
   "source": [
    "firstname='sanket'"
   ]
  },
  {
   "cell_type": "code",
   "execution_count": 11,
   "id": "85049df7",
   "metadata": {},
   "outputs": [
    {
     "name": "stdout",
     "output_type": "stream",
     "text": [
      "sanket\n",
      "1500018971120\n",
      "<class 'str'>\n"
     ]
    }
   ],
   "source": [
    "print(firstname)\n",
    "print(id(firstname))\n",
    "print(type(firstname))"
   ]
  },
  {
   "cell_type": "markdown",
   "id": "9cc7b1e3",
   "metadata": {},
   "source": [
    "- create a veriable lastname and assign a string value to it. print the value of lastname, id and datatype."
   ]
  },
  {
   "cell_type": "code",
   "execution_count": 12,
   "id": "7d6b4b46",
   "metadata": {},
   "outputs": [],
   "source": [
    "lastname='bhosale'"
   ]
  },
  {
   "cell_type": "code",
   "execution_count": 13,
   "id": "145d66f8",
   "metadata": {},
   "outputs": [
    {
     "name": "stdout",
     "output_type": "stream",
     "text": [
      "bhosale\n",
      "1500018204912\n",
      "<class 'str'>\n"
     ]
    }
   ],
   "source": [
    "print(lastname)\n",
    "print(id(lastname))\n",
    "print(type(lastname))"
   ]
  },
  {
   "cell_type": "markdown",
   "id": "21116eeb",
   "metadata": {},
   "source": [
    "- create a veriable maxmarks and assign the value 50 to it.print value the maxmarks, id and datatype."
   ]
  },
  {
   "cell_type": "code",
   "execution_count": 10,
   "id": "83b81f45",
   "metadata": {},
   "outputs": [],
   "source": [
    "maxmarks= 50"
   ]
  },
  {
   "cell_type": "code",
   "execution_count": 11,
   "id": "668dc94d",
   "metadata": {},
   "outputs": [
    {
     "name": "stdout",
     "output_type": "stream",
     "text": [
      "50\n",
      "3092260155216\n",
      "<class 'int'>\n"
     ]
    }
   ],
   "source": [
    "print(maxmarks)\n",
    "print(id(maxmarks))\n",
    "print(type(maxmarks))"
   ]
  },
  {
   "cell_type": "markdown",
   "id": "a867badf",
   "metadata": {},
   "source": [
    "# Task-2:- Naming a veriable."
   ]
  },
  {
   "cell_type": "markdown",
   "id": "6c88975a",
   "metadata": {},
   "source": [
    "- execute the following expression individually and explain the observation to each of them."
   ]
  },
  {
   "cell_type": "code",
   "execution_count": 16,
   "id": "6e97eb40",
   "metadata": {},
   "outputs": [
    {
     "data": {
      "text/plain": [
       "2"
      ]
     },
     "execution_count": 16,
     "metadata": {},
     "output_type": "execute_result"
    }
   ],
   "source": [
    "var1=2\n",
    "var1"
   ]
  },
  {
   "cell_type": "markdown",
   "id": "a58dd756",
   "metadata": {},
   "source": [
    "- Interpretation :-\n",
    "    - in above code, we use correct syntax thats why we get an output without  any error.\n",
    "    - in Veriable syntax the veriables are only start with a character value."
   ]
  },
  {
   "cell_type": "code",
   "execution_count": 13,
   "id": "0d9c961d",
   "metadata": {},
   "outputs": [
    {
     "ename": "SyntaxError",
     "evalue": "invalid syntax (1729216075.py, line 1)",
     "output_type": "error",
     "traceback": [
      "\u001b[1;36m  File \u001b[1;32m\"C:\\Users\\Manohar Bhosale\\AppData\\Local\\Temp\\ipykernel_7988\\1729216075.py\"\u001b[1;36m, line \u001b[1;32m1\u001b[0m\n\u001b[1;33m    2var=2\u001b[0m\n\u001b[1;37m     ^\u001b[0m\n\u001b[1;31mSyntaxError\u001b[0m\u001b[1;31m:\u001b[0m invalid syntax\n"
     ]
    }
   ],
   "source": [
    "2var=2"
   ]
  },
  {
   "cell_type": "markdown",
   "id": "9139c38e",
   "metadata": {},
   "source": [
    "- Interpretation :-\n",
    "   - The veriables can not have number for starting eg. 2var=2.\n",
    "   - due to this we got a syntax error in this code."
   ]
  },
  {
   "cell_type": "code",
   "execution_count": 14,
   "id": "4c7e4cf9",
   "metadata": {},
   "outputs": [
    {
     "ename": "SyntaxError",
     "evalue": "invalid syntax (3073352835.py, line 1)",
     "output_type": "error",
     "traceback": [
      "\u001b[1;36m  File \u001b[1;32m\"C:\\Users\\Manohar Bhosale\\AppData\\Local\\Temp\\ipykernel_7988\\3073352835.py\"\u001b[1;36m, line \u001b[1;32m1\u001b[0m\n\u001b[1;33m    var 1=2\u001b[0m\n\u001b[1;37m        ^\u001b[0m\n\u001b[1;31mSyntaxError\u001b[0m\u001b[1;31m:\u001b[0m invalid syntax\n"
     ]
    }
   ],
   "source": [
    "var 1=2"
   ]
  },
  {
   "cell_type": "markdown",
   "id": "bb6b8e99",
   "metadata": {},
   "source": [
    "- Interpretation:-\n",
    "  - The veriable cant have space between them.\n",
    "  - if we put some space then we got the syntax error."
   ]
  },
  {
   "cell_type": "code",
   "execution_count": 15,
   "id": "1e58bcce",
   "metadata": {},
   "outputs": [
    {
     "ename": "SyntaxError",
     "evalue": "invalid syntax (661466017.py, line 1)",
     "output_type": "error",
     "traceback": [
      "\u001b[1;36m  File \u001b[1;32m\"C:\\Users\\Manohar Bhosale\\AppData\\Local\\Temp\\ipykernel_7988\\661466017.py\"\u001b[1;36m, line \u001b[1;32m1\u001b[0m\n\u001b[1;33m    var$2=2\u001b[0m\n\u001b[1;37m       ^\u001b[0m\n\u001b[1;31mSyntaxError\u001b[0m\u001b[1;31m:\u001b[0m invalid syntax\n"
     ]
    }
   ],
   "source": [
    "var$2=2"
   ]
  },
  {
   "cell_type": "markdown",
   "id": "5301d025",
   "metadata": {},
   "source": [
    "- Interpretation:-\n",
    "   - The veriables will not haveany special characters.\n",
    "   - we can only use underscore but its has some diferant meaning in python."
   ]
  },
  {
   "cell_type": "markdown",
   "id": "b8d8c919",
   "metadata": {},
   "source": [
    "# Task-3:- Assigning values to veriables"
   ]
  },
  {
   "cell_type": "markdown",
   "id": "f41190cf",
   "metadata": {},
   "source": [
    "- execute the following expressions individually and explain the observations to each them."
   ]
  },
  {
   "cell_type": "code",
   "execution_count": 23,
   "id": "673ee5e5",
   "metadata": {},
   "outputs": [
    {
     "data": {
      "text/plain": [
       "15"
      ]
     },
     "execution_count": 23,
     "metadata": {},
     "output_type": "execute_result"
    }
   ],
   "source": [
    "Class=15\n",
    "Class"
   ]
  },
  {
   "cell_type": "markdown",
   "id": "d6075da6",
   "metadata": {},
   "source": [
    "Interpretation :-\n",
    "- the veriables are very case sensitive.\n",
    "- in this veriable the first alphabet is in capital letter.\n",
    "- here we used the word 'Class' which not present in python dictionary.\n",
    "- thats why the value is assign to the veriable."
   ]
  },
  {
   "cell_type": "code",
   "execution_count": 18,
   "id": "9f4fcd5d",
   "metadata": {},
   "outputs": [
    {
     "ename": "SyntaxError",
     "evalue": "invalid syntax (1944381924.py, line 1)",
     "output_type": "error",
     "traceback": [
      "\u001b[1;36m  File \u001b[1;32m\"C:\\Users\\Manohar Bhosale\\AppData\\Local\\Temp\\ipykernel_7988\\1944381924.py\"\u001b[1;36m, line \u001b[1;32m1\u001b[0m\n\u001b[1;33m    class=14\u001b[0m\n\u001b[1;37m         ^\u001b[0m\n\u001b[1;31mSyntaxError\u001b[0m\u001b[1;31m:\u001b[0m invalid syntax\n"
     ]
    }
   ],
   "source": [
    "class=14"
   ]
  },
  {
   "cell_type": "markdown",
   "id": "62b04f9a",
   "metadata": {},
   "source": [
    "Interpretation :-\n",
    "- the veriables are very case sensitive.\n",
    "- here we assign a value to 'class' veriable.\n",
    "- butthe 'class' veriable is already avilabe in python dictionary.\n",
    "- Due to this we got an syntax error.\n",
    "- And we are not able to assign a value to it."
   ]
  },
  {
   "cell_type": "code",
   "execution_count": 24,
   "id": "474386cf",
   "metadata": {},
   "outputs": [
    {
     "data": {
      "text/plain": [
       "13"
      ]
     },
     "execution_count": 24,
     "metadata": {},
     "output_type": "execute_result"
    }
   ],
   "source": [
    "DEF=13\n",
    "DEF"
   ]
  },
  {
   "cell_type": "markdown",
   "id": "6d92474f",
   "metadata": {},
   "source": [
    "Interpretation :-\n",
    "- Here we are assign the values to 'DEF' veriable.\n",
    "- in this veriable all the letters are in uppercase.\n",
    "- this veriable was not avilable in python dictionary.\n",
    "- so we are able to assign a value to the 'DEF' veriable."
   ]
  },
  {
   "cell_type": "code",
   "execution_count": 20,
   "id": "d489c1d7",
   "metadata": {},
   "outputs": [
    {
     "ename": "SyntaxError",
     "evalue": "invalid syntax (1379353252.py, line 1)",
     "output_type": "error",
     "traceback": [
      "\u001b[1;36m  File \u001b[1;32m\"C:\\Users\\Manohar Bhosale\\AppData\\Local\\Temp\\ipykernel_7988\\1379353252.py\"\u001b[1;36m, line \u001b[1;32m1\u001b[0m\n\u001b[1;33m    def=12\u001b[0m\n\u001b[1;37m       ^\u001b[0m\n\u001b[1;31mSyntaxError\u001b[0m\u001b[1;31m:\u001b[0m invalid syntax\n"
     ]
    }
   ],
   "source": [
    "def=12"
   ]
  },
  {
   "cell_type": "markdown",
   "id": "a16da63a",
   "metadata": {},
   "source": [
    "Interpretation :-\n",
    "- here we assign the value to the veriable which are already avilable in dictionary.\n",
    "- so the value is not assign to the veriable.\n",
    "- the veriables avilable in the dictionary is turns GREEN."
   ]
  },
  {
   "cell_type": "code",
   "execution_count": 21,
   "id": "a89eea18",
   "metadata": {},
   "outputs": [
    {
     "ename": "NameError",
     "evalue": "name 'TRUE' is not defined",
     "output_type": "error",
     "traceback": [
      "\u001b[1;31m---------------------------------------------------------------------------\u001b[0m",
      "\u001b[1;31mNameError\u001b[0m                                 Traceback (most recent call last)",
      "\u001b[1;32m~\\AppData\\Local\\Temp\\ipykernel_7988\\1151946856.py\u001b[0m in \u001b[0;36m<module>\u001b[1;34m\u001b[0m\n\u001b[1;32m----> 1\u001b[1;33m \u001b[0ma\u001b[0m\u001b[1;33m=\u001b[0m\u001b[0mTRUE\u001b[0m\u001b[1;33m\u001b[0m\u001b[1;33m\u001b[0m\u001b[0m\n\u001b[0m",
      "\u001b[1;31mNameError\u001b[0m: name 'TRUE' is not defined"
     ]
    }
   ],
   "source": [
    "a=TRUE"
   ]
  },
  {
   "cell_type": "markdown",
   "id": "8b5ef54f",
   "metadata": {},
   "source": [
    "Interpretation :-\n",
    "- in this condition the all letters are in uppercase.\n",
    "- as we know the veriables are very case sensitive so its show an error.\n",
    "- The correct veriable is 'True' which has only first letter is capital. "
   ]
  },
  {
   "cell_type": "code",
   "execution_count": 22,
   "id": "622050ec",
   "metadata": {},
   "outputs": [
    {
     "ename": "NameError",
     "evalue": "name 'false' is not defined",
     "output_type": "error",
     "traceback": [
      "\u001b[1;31m---------------------------------------------------------------------------\u001b[0m",
      "\u001b[1;31mNameError\u001b[0m                                 Traceback (most recent call last)",
      "\u001b[1;32m~\\AppData\\Local\\Temp\\ipykernel_7988\\209756984.py\u001b[0m in \u001b[0;36m<module>\u001b[1;34m\u001b[0m\n\u001b[1;32m----> 1\u001b[1;33m \u001b[0mb\u001b[0m\u001b[1;33m=\u001b[0m\u001b[0mfalse\u001b[0m\u001b[1;33m\u001b[0m\u001b[1;33m\u001b[0m\u001b[0m\n\u001b[0m",
      "\u001b[1;31mNameError\u001b[0m: name 'false' is not defined"
     ]
    }
   ],
   "source": [
    "b=false"
   ]
  },
  {
   "cell_type": "markdown",
   "id": "479246bd",
   "metadata": {},
   "source": [
    "Interpretation :-\n",
    "- In this conditon all letters in lowercase.\n",
    "- Due to all lowercase letters we got an error.\n",
    "- The correct veriable is 'False'."
   ]
  },
  {
   "cell_type": "markdown",
   "id": "89688586",
   "metadata": {},
   "source": [
    "# Task-4:- Using id()"
   ]
  },
  {
   "cell_type": "markdown",
   "id": "a95d6334",
   "metadata": {},
   "source": [
    "- Create a veriable named as mark and assign it a float value between 0 and 100 print the value,id and datatype."
   ]
  },
  {
   "cell_type": "code",
   "execution_count": 1,
   "id": "b1739ede",
   "metadata": {},
   "outputs": [],
   "source": [
    "mark= 81.29"
   ]
  },
  {
   "cell_type": "code",
   "execution_count": 2,
   "id": "9f642463",
   "metadata": {},
   "outputs": [
    {
     "name": "stdout",
     "output_type": "stream",
     "text": [
      "81.29\n",
      "1500018688688\n",
      "<class 'float'>\n"
     ]
    }
   ],
   "source": [
    "print(mark)\n",
    "print(id(mark))\n",
    "print(type(mark))"
   ]
  },
  {
   "cell_type": "markdown",
   "id": "f9c9a800",
   "metadata": {},
   "source": [
    "- change the value of marks to any other float value between 0 to 100. print value of marks,id and datatypes."
   ]
  },
  {
   "cell_type": "code",
   "execution_count": 3,
   "id": "f3d8faec",
   "metadata": {},
   "outputs": [],
   "source": [
    "mark= 74.08"
   ]
  },
  {
   "cell_type": "code",
   "execution_count": 4,
   "id": "04ed1e3b",
   "metadata": {},
   "outputs": [
    {
     "name": "stdout",
     "output_type": "stream",
     "text": [
      "74.08\n",
      "1500018689072\n",
      "<class 'float'>\n"
     ]
    }
   ],
   "source": [
    "print(mark)\n",
    "print(id(mark))\n",
    "print(type(mark))"
   ]
  },
  {
   "cell_type": "markdown",
   "id": "bc70fc6d",
   "metadata": {},
   "source": [
    "- is the id for the mark veriable in the last two question the same or differant? Explain it"
   ]
  },
  {
   "cell_type": "markdown",
   "id": "3c93a7f0",
   "metadata": {},
   "source": [
    "Interpretation:-\n",
    "- The id for first question and second question is differant.\n",
    "- It has total 13 numbers with unique configurations.\n",
    "- But the first 7 numbers are common.\n",
    "- next 6 numbers are differant from each other."
   ]
  },
  {
   "cell_type": "markdown",
   "id": "cdbaaa17",
   "metadata": {},
   "source": [
    "# Task-5:- Formatting the output."
   ]
  },
  {
   "cell_type": "markdown",
   "id": "f6d75fd9",
   "metadata": {},
   "source": [
    "- Define averiable maxmarks and assign the value 100. divide marks by maxmarks. print output as percentage."
   ]
  },
  {
   "cell_type": "code",
   "execution_count": 5,
   "id": "ae9e6351",
   "metadata": {},
   "outputs": [],
   "source": [
    "maxmarks= 100\n",
    "mark=  74.08"
   ]
  },
  {
   "cell_type": "code",
   "execution_count": 6,
   "id": "25c8740f",
   "metadata": {},
   "outputs": [
    {
     "name": "stdout",
     "output_type": "stream",
     "text": [
      "74.08%\n"
     ]
    }
   ],
   "source": [
    "a=mark/maxmarks*100\n",
    "print(str(a)+'%')"
   ]
  },
  {
   "cell_type": "markdown",
   "id": "7207baab",
   "metadata": {},
   "source": [
    "- Print the value of the veriable fullname by joining firstname and lastname."
   ]
  },
  {
   "cell_type": "code",
   "execution_count": 14,
   "id": "29c7b009",
   "metadata": {},
   "outputs": [
    {
     "name": "stdout",
     "output_type": "stream",
     "text": [
      "sanket bhosale\n"
     ]
    }
   ],
   "source": [
    "fullname= firstname+' '+lastname\n",
    "print(fullname)"
   ]
  },
  {
   "cell_type": "markdown",
   "id": "341e3b80",
   "metadata": {},
   "source": [
    "- print the value of veriable fullname with 'scored' followed by the percentage of marks. "
   ]
  },
  {
   "cell_type": "code",
   "execution_count": 15,
   "id": "ac497a78",
   "metadata": {},
   "outputs": [
    {
     "name": "stdout",
     "output_type": "stream",
     "text": [
      "sanket bhosale scored 74.08%\n"
     ]
    }
   ],
   "source": [
    "print(fullname,'scored',str(a)+'%')"
   ]
  },
  {
   "cell_type": "markdown",
   "id": "60f78555",
   "metadata": {},
   "source": [
    "# Task-6:- Creating data structure."
   ]
  },
  {
   "cell_type": "markdown",
   "id": "aa0afa7d",
   "metadata": {},
   "source": [
    "- Use veriable rollno as a key and the veriable fullname as a value to create a dictionary data structure. "
   ]
  },
  {
   "cell_type": "code",
   "execution_count": 18,
   "id": "15d8abfc",
   "metadata": {},
   "outputs": [
    {
     "name": "stdout",
     "output_type": "stream",
     "text": [
      "{4: 'sanket bhosale'}\n"
     ]
    }
   ],
   "source": [
    "my_data={rollno: fullname}\n",
    "print(my_data)"
   ]
  },
  {
   "cell_type": "markdown",
   "id": "38fca34a",
   "metadata": {},
   "source": [
    "- Use the veriables rollno, fullname, marks as the value create a list data structure. "
   ]
  },
  {
   "cell_type": "code",
   "execution_count": 19,
   "id": "5735616f",
   "metadata": {},
   "outputs": [],
   "source": [
    "data_list=[rollno, fullname, mark]"
   ]
  },
  {
   "cell_type": "code",
   "execution_count": 20,
   "id": "9fd1cb56",
   "metadata": {},
   "outputs": [
    {
     "name": "stdout",
     "output_type": "stream",
     "text": [
      "[4, 'sanket bhosale', 74.08]\n"
     ]
    }
   ],
   "source": [
    "print(data_list)"
   ]
  },
  {
   "cell_type": "markdown",
   "id": "c2109a3a",
   "metadata": {},
   "source": [
    "# Task-7:- Arithmatic Operations\n"
   ]
  },
  {
   "cell_type": "markdown",
   "id": "87e3a312",
   "metadata": {},
   "source": [
    "- Execute the following expression and explain the observation of output."
   ]
  },
  {
   "cell_type": "code",
   "execution_count": 21,
   "id": "7471bbba",
   "metadata": {},
   "outputs": [
    {
     "ename": "TypeError",
     "evalue": "unsupported operand type(s) for +: 'int' and 'str'",
     "output_type": "error",
     "traceback": [
      "\u001b[1;31m---------------------------------------------------------------------------\u001b[0m",
      "\u001b[1;31mTypeError\u001b[0m                                 Traceback (most recent call last)",
      "\u001b[1;32m~\\AppData\\Local\\Temp\\ipykernel_1452\\3813695943.py\u001b[0m in \u001b[0;36m<module>\u001b[1;34m\u001b[0m\n\u001b[1;32m----> 1\u001b[1;33m \u001b[1;36m1\u001b[0m\u001b[1;33m+\u001b[0m\u001b[1;34m\"2\"\u001b[0m\u001b[1;33m\u001b[0m\u001b[1;33m\u001b[0m\u001b[0m\n\u001b[0m",
      "\u001b[1;31mTypeError\u001b[0m: unsupported operand type(s) for +: 'int' and 'str'"
     ]
    }
   ],
   "source": [
    "1+\"2\""
   ]
  },
  {
   "cell_type": "markdown",
   "id": "50b68e16",
   "metadata": {},
   "source": [
    "Interpretation:-\n",
    "- In this task the compiler noted the first value as integer and second value as string.\n",
    "- so the string and integer values are never get added.\n",
    "- thats why it shows an Unsupported operand type error."
   ]
  },
  {
   "cell_type": "code",
   "execution_count": 22,
   "id": "6813cfa9",
   "metadata": {},
   "outputs": [
    {
     "data": {
      "text/plain": [
       "'12'"
      ]
     },
     "execution_count": 22,
     "metadata": {},
     "output_type": "execute_result"
    }
   ],
   "source": [
    "\"1\"+\"2\""
   ]
  },
  {
   "cell_type": "markdown",
   "id": "ba89ee56",
   "metadata": {},
   "source": [
    "Interpretation:-\n",
    "- In this task both the values are assumed as a string value.\n",
    "- and the compiler concat the both value together and show the output as 12."
   ]
  },
  {
   "cell_type": "code",
   "execution_count": 23,
   "id": "9ccd6612",
   "metadata": {},
   "outputs": [
    {
     "data": {
      "text/plain": [
       "0.5"
      ]
     },
     "execution_count": 23,
     "metadata": {},
     "output_type": "execute_result"
    }
   ],
   "source": [
    "1/2"
   ]
  },
  {
   "cell_type": "markdown",
   "id": "fbc21c2b",
   "metadata": {},
   "source": [
    "Interpretation:-\n",
    "- In this task we simply divide 1 by 2 and compiler gives an output.\n",
    "- In this output we got a float value which is 0.5."
   ]
  },
  {
   "cell_type": "code",
   "execution_count": 24,
   "id": "2aaa0006",
   "metadata": {},
   "outputs": [
    {
     "data": {
      "text/plain": [
       "0"
      ]
     },
     "execution_count": 24,
     "metadata": {},
     "output_type": "execute_result"
    }
   ],
   "source": [
    "1//2"
   ]
  },
  {
   "cell_type": "markdown",
   "id": "f2e19735",
   "metadata": {},
   "source": [
    "Interpretation:-\n",
    "- In this task we use the divide symbol twice.\n",
    "- When we are using this (//) then we get an Integer value as a output."
   ]
  },
  {
   "cell_type": "markdown",
   "id": "37513424",
   "metadata": {},
   "source": [
    "# Task-8:-Logical Operations"
   ]
  },
  {
   "cell_type": "markdown",
   "id": "58a3feda",
   "metadata": {},
   "source": [
    "- Execute the following commands and explain the output for each"
   ]
  },
  {
   "cell_type": "code",
   "execution_count": 25,
   "id": "cb08f639",
   "metadata": {},
   "outputs": [
    {
     "data": {
      "text/plain": [
       "True"
      ]
     },
     "execution_count": 25,
     "metadata": {},
     "output_type": "execute_result"
    }
   ],
   "source": [
    "True and True"
   ]
  },
  {
   "cell_type": "markdown",
   "id": "2e9a9c52",
   "metadata": {},
   "source": [
    "Interpretation:-\n",
    "- The AND operator are show TRUE when both side of the operator are TRUE.\n",
    "- Same condition is applied here so we get TRUE as a output."
   ]
  },
  {
   "cell_type": "code",
   "execution_count": 26,
   "id": "a7a705c9",
   "metadata": {},
   "outputs": [
    {
     "data": {
      "text/plain": [
       "False"
      ]
     },
     "execution_count": 26,
     "metadata": {},
     "output_type": "execute_result"
    }
   ],
   "source": [
    "True and False"
   ]
  },
  {
   "cell_type": "markdown",
   "id": "346422fd",
   "metadata": {},
   "source": [
    "Interpretation:-\n",
    "- The both side of operator are differant so we get FALSE as a output."
   ]
  },
  {
   "cell_type": "code",
   "execution_count": 27,
   "id": "8264652e",
   "metadata": {},
   "outputs": [
    {
     "data": {
      "text/plain": [
       "True"
      ]
     },
     "execution_count": 27,
     "metadata": {},
     "output_type": "execute_result"
    }
   ],
   "source": [
    "False or True"
   ]
  },
  {
   "cell_type": "markdown",
   "id": "29daa290",
   "metadata": {},
   "source": [
    "Interpretation:-\n",
    "- In OR operator, if any side of the operator is TRUE then its give TRUE as output."
   ]
  },
  {
   "cell_type": "code",
   "execution_count": 28,
   "id": "6a829795",
   "metadata": {},
   "outputs": [
    {
     "data": {
      "text/plain": [
       "False"
      ]
     },
     "execution_count": 28,
     "metadata": {},
     "output_type": "execute_result"
    }
   ],
   "source": [
    "False or False"
   ]
  },
  {
   "cell_type": "markdown",
   "id": "8c3278a4",
   "metadata": {},
   "source": [
    "Interpretation:-\n",
    "- In this condition both the values are false so its show output as FALSE."
   ]
  },
  {
   "cell_type": "markdown",
   "id": "0e7cbaa2",
   "metadata": {},
   "source": [
    "# Task-9:-Identify and membership operation"
   ]
  },
  {
   "cell_type": "markdown",
   "id": "c4abd187",
   "metadata": {},
   "source": [
    "- compare firstname and fullname using 'in' operator. print and explain output."
   ]
  },
  {
   "cell_type": "code",
   "execution_count": 29,
   "id": "c6cd9b7a",
   "metadata": {},
   "outputs": [
    {
     "data": {
      "text/plain": [
       "True"
      ]
     },
     "execution_count": 29,
     "metadata": {},
     "output_type": "execute_result"
    }
   ],
   "source": [
    "firstname in fullname"
   ]
  },
  {
   "cell_type": "markdown",
   "id": "004e228e",
   "metadata": {},
   "source": [
    "Interpretation:-\n",
    "- In this task we use 'IN' operator.\n",
    "- the firstname is a part of fullname.\n",
    "- Its showing the output as TRUE."
   ]
  },
  {
   "cell_type": "markdown",
   "id": "568e1cc9",
   "metadata": {},
   "source": [
    "- Compare firstname and fullname using 'is' operator.print and explain the output."
   ]
  },
  {
   "cell_type": "code",
   "execution_count": 30,
   "id": "23a3f39d",
   "metadata": {},
   "outputs": [
    {
     "data": {
      "text/plain": [
       "False"
      ]
     },
     "execution_count": 30,
     "metadata": {},
     "output_type": "execute_result"
    }
   ],
   "source": [
    "firstname is fullname"
   ]
  },
  {
   "cell_type": "markdown",
   "id": "be9921ac",
   "metadata": {},
   "source": [
    "Interpretation:-\n",
    "- In this task we used 'IS' operator.\n",
    "- this operator is compare both the values and gives output.\n",
    "- this condition we got False as output."
   ]
  },
  {
   "cell_type": "markdown",
   "id": "57320687",
   "metadata": {},
   "source": [
    "# Task-10:-Associativity"
   ]
  },
  {
   "cell_type": "code",
   "execution_count": 31,
   "id": "5b8cfd4f",
   "metadata": {},
   "outputs": [],
   "source": [
    "a=4"
   ]
  },
  {
   "cell_type": "code",
   "execution_count": 32,
   "id": "4539c326",
   "metadata": {},
   "outputs": [],
   "source": [
    "b=3"
   ]
  },
  {
   "cell_type": "code",
   "execution_count": 33,
   "id": "61fb4001",
   "metadata": {},
   "outputs": [],
   "source": [
    "c=2"
   ]
  },
  {
   "cell_type": "code",
   "execution_count": 34,
   "id": "8c44e172",
   "metadata": {},
   "outputs": [],
   "source": [
    "d=a**b+c"
   ]
  },
  {
   "cell_type": "code",
   "execution_count": 35,
   "id": "50c3da04",
   "metadata": {},
   "outputs": [],
   "source": [
    "e=a**(b+c)"
   ]
  },
  {
   "cell_type": "markdown",
   "id": "80df6062",
   "metadata": {},
   "source": [
    "- print the value of d."
   ]
  },
  {
   "cell_type": "code",
   "execution_count": 36,
   "id": "9d6afc79",
   "metadata": {},
   "outputs": [
    {
     "name": "stdout",
     "output_type": "stream",
     "text": [
      "66\n"
     ]
    }
   ],
   "source": [
    "print(d)"
   ]
  },
  {
   "cell_type": "markdown",
   "id": "bb83f1f6",
   "metadata": {},
   "source": [
    "- print the value of e."
   ]
  },
  {
   "cell_type": "code",
   "execution_count": 37,
   "id": "51687bdc",
   "metadata": {},
   "outputs": [
    {
     "name": "stdout",
     "output_type": "stream",
     "text": [
      "1024\n"
     ]
    }
   ],
   "source": [
    "print(e)"
   ]
  },
  {
   "cell_type": "markdown",
   "id": "7d9042f7",
   "metadata": {},
   "source": [
    "- Explain why the values ofd and e are same or differant."
   ]
  },
  {
   "cell_type": "markdown",
   "id": "0e069ba9",
   "metadata": {},
   "source": [
    "Interpretation:-\n",
    "- Firstly we assign the values for the veriables (a,b and c).\n",
    "- In first task we got output for 'd' as 66.\n",
    "- this task the power function is execute first.\n",
    "- Then the addition function is execute thats why we get 66 as output.\n",
    "\n",
    "- In second task we got output for 'e' as 1024.\n",
    "- In this task the addition function present in parenthesis execute first.\n",
    "- then the power function is executes.\n",
    "- thats why we got 1024 as output."
   ]
  }
 ],
 "metadata": {
  "kernelspec": {
   "display_name": "Python 3 (ipykernel)",
   "language": "python",
   "name": "python3"
  },
  "language_info": {
   "codemirror_mode": {
    "name": "ipython",
    "version": 3
   },
   "file_extension": ".py",
   "mimetype": "text/x-python",
   "name": "python",
   "nbconvert_exporter": "python",
   "pygments_lexer": "ipython3",
   "version": "3.9.13"
  }
 },
 "nbformat": 4,
 "nbformat_minor": 5
}
