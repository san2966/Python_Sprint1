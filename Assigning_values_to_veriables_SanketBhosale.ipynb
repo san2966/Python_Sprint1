{
 "cells": [
  {
   "cell_type": "markdown",
   "id": "00bcc4de",
   "metadata": {},
   "source": [
    "# Task-3:- Assigning values to veriables"
   ]
  },
  {
   "cell_type": "markdown",
   "id": "4867a1af",
   "metadata": {},
   "source": [
    "- execute the following expressions individually and explain the observations to each them."
   ]
  },
  {
   "cell_type": "code",
   "execution_count": 1,
   "id": "f0f82d71",
   "metadata": {},
   "outputs": [
    {
     "data": {
      "text/plain": [
       "15"
      ]
     },
     "execution_count": 1,
     "metadata": {},
     "output_type": "execute_result"
    }
   ],
   "source": [
    "Class=15\n",
    "Class"
   ]
  },
  {
   "cell_type": "markdown",
   "id": "41ac7d8e",
   "metadata": {},
   "source": [
    "Interpretation :-\n",
    "- the veriables are very case sensitive.\n",
    "- in this veriable the first alphabet is in capital letter.\n",
    "- here we used the word 'Class' which not present in python dictionary.\n",
    "- thats why the value is assign to the veriable."
   ]
  },
  {
   "cell_type": "code",
   "execution_count": 2,
   "id": "781be790",
   "metadata": {},
   "outputs": [
    {
     "ename": "SyntaxError",
     "evalue": "invalid syntax (1944381924.py, line 1)",
     "output_type": "error",
     "traceback": [
      "\u001b[1;36m  File \u001b[1;32m\"C:\\Users\\Manohar Bhosale\\AppData\\Local\\Temp\\ipykernel_5388\\1944381924.py\"\u001b[1;36m, line \u001b[1;32m1\u001b[0m\n\u001b[1;33m    class=14\u001b[0m\n\u001b[1;37m         ^\u001b[0m\n\u001b[1;31mSyntaxError\u001b[0m\u001b[1;31m:\u001b[0m invalid syntax\n"
     ]
    }
   ],
   "source": [
    "class=14"
   ]
  },
  {
   "cell_type": "markdown",
   "id": "78f8cf5b",
   "metadata": {},
   "source": [
    "Interpretation :-\n",
    "- the veriables are very case sensitive.\n",
    "- here we assign a value to 'class' veriable.\n",
    "- butthe 'class' veriable is already avilabe in python dictionary.\n",
    "- Due to this we got an syntax error.\n",
    "- And we are not able to assign a value to it."
   ]
  },
  {
   "cell_type": "code",
   "execution_count": 4,
   "id": "fa557fdc",
   "metadata": {},
   "outputs": [
    {
     "data": {
      "text/plain": [
       "13"
      ]
     },
     "execution_count": 4,
     "metadata": {},
     "output_type": "execute_result"
    }
   ],
   "source": [
    "DEF=13\n",
    "DEF"
   ]
  },
  {
   "cell_type": "markdown",
   "id": "a7690d32",
   "metadata": {},
   "source": [
    "Interpretation :-\n",
    "- Here we are assign the values to 'DEF' veriable.\n",
    "- in this veriable all the letters are in uppercase.\n",
    "- this veriable was not avilable in python dictionary.\n",
    "- so we are able to assign a value to the 'DEF' veriable."
   ]
  },
  {
   "cell_type": "code",
   "execution_count": 5,
   "id": "6c7a0496",
   "metadata": {},
   "outputs": [
    {
     "ename": "SyntaxError",
     "evalue": "invalid syntax (1379353252.py, line 1)",
     "output_type": "error",
     "traceback": [
      "\u001b[1;36m  File \u001b[1;32m\"C:\\Users\\Manohar Bhosale\\AppData\\Local\\Temp\\ipykernel_5388\\1379353252.py\"\u001b[1;36m, line \u001b[1;32m1\u001b[0m\n\u001b[1;33m    def=12\u001b[0m\n\u001b[1;37m       ^\u001b[0m\n\u001b[1;31mSyntaxError\u001b[0m\u001b[1;31m:\u001b[0m invalid syntax\n"
     ]
    }
   ],
   "source": [
    "def=12"
   ]
  },
  {
   "cell_type": "markdown",
   "id": "901c2663",
   "metadata": {},
   "source": [
    "Interpretation :-\n",
    "- here we assign the value to the veriable which are already avilable in dictionary.\n",
    "- so the value is not assign to the veriable.\n",
    "- the veriables avilable in the dictionary is turns GREEN."
   ]
  },
  {
   "cell_type": "code",
   "execution_count": 6,
   "id": "47e31470",
   "metadata": {},
   "outputs": [
    {
     "ename": "NameError",
     "evalue": "name 'TRUE' is not defined",
     "output_type": "error",
     "traceback": [
      "\u001b[1;31m---------------------------------------------------------------------------\u001b[0m",
      "\u001b[1;31mNameError\u001b[0m                                 Traceback (most recent call last)",
      "\u001b[1;32m~\\AppData\\Local\\Temp\\ipykernel_5388\\1151946856.py\u001b[0m in \u001b[0;36m<module>\u001b[1;34m\u001b[0m\n\u001b[1;32m----> 1\u001b[1;33m \u001b[0ma\u001b[0m\u001b[1;33m=\u001b[0m\u001b[0mTRUE\u001b[0m\u001b[1;33m\u001b[0m\u001b[1;33m\u001b[0m\u001b[0m\n\u001b[0m",
      "\u001b[1;31mNameError\u001b[0m: name 'TRUE' is not defined"
     ]
    }
   ],
   "source": [
    "a=TRUE"
   ]
  },
  {
   "cell_type": "markdown",
   "id": "05b47655",
   "metadata": {},
   "source": [
    "Interpretation :-\n",
    "- in this condition the all letters are in uppercase.\n",
    "- as we know the veriables are very case sensitive so its show an error.\n",
    "- The correct veriable is 'True' which has only first letter is capital. "
   ]
  },
  {
   "cell_type": "code",
   "execution_count": 7,
   "id": "a143ed8d",
   "metadata": {},
   "outputs": [
    {
     "ename": "NameError",
     "evalue": "name 'false' is not defined",
     "output_type": "error",
     "traceback": [
      "\u001b[1;31m---------------------------------------------------------------------------\u001b[0m",
      "\u001b[1;31mNameError\u001b[0m                                 Traceback (most recent call last)",
      "\u001b[1;32m~\\AppData\\Local\\Temp\\ipykernel_5388\\209756984.py\u001b[0m in \u001b[0;36m<module>\u001b[1;34m\u001b[0m\n\u001b[1;32m----> 1\u001b[1;33m \u001b[0mb\u001b[0m\u001b[1;33m=\u001b[0m\u001b[0mfalse\u001b[0m\u001b[1;33m\u001b[0m\u001b[1;33m\u001b[0m\u001b[0m\n\u001b[0m",
      "\u001b[1;31mNameError\u001b[0m: name 'false' is not defined"
     ]
    }
   ],
   "source": [
    "b=false"
   ]
  },
  {
   "cell_type": "markdown",
   "id": "c7be1de6",
   "metadata": {},
   "source": [
    "Interpretation :-\n",
    "- In this conditon all letters in lowercase.\n",
    "- Due to all lowercase letters we got an error.\n",
    "- The correct veriable is 'False'."
   ]
  }
 ],
 "metadata": {
  "kernelspec": {
   "display_name": "Python 3 (ipykernel)",
   "language": "python",
   "name": "python3"
  },
  "language_info": {
   "codemirror_mode": {
    "name": "ipython",
    "version": 3
   },
   "file_extension": ".py",
   "mimetype": "text/x-python",
   "name": "python",
   "nbconvert_exporter": "python",
   "pygments_lexer": "ipython3",
   "version": "3.9.13"
  }
 },
 "nbformat": 4,
 "nbformat_minor": 5
}
